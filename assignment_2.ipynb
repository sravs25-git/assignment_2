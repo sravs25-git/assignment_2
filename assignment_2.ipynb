{
  "nbformat": 4,
  "nbformat_minor": 0,
  "metadata": {
    "colab": {
      "provenance": []
    },
    "kernelspec": {
      "name": "python3",
      "display_name": "Python 3"
    },
    "language_info": {
      "name": "python"
    }
  },
  "cells": [
    {
      "cell_type": "markdown",
      "source": [
        "1.<!doctype html>\n",
        "<html>\n",
        "<head>\n",
        "</head>\n",
        "<body>\n",
        "<h1>HTML defines the content and structure of your website</h1>\n",
        "</body>\n",
        "</html>\n"
      ],
      "metadata": {
        "id": "cYOyHecrzrwn"
      }
    },
    {
      "cell_type": "markdown",
      "source": [
        "2.\n",
        "\n",
        "the html comment helps to add notes in the documnet the code is not read by browser and it is for documentation.\n",
        "\n",
        "\n",
        "ex. &lt;!-- This is a comment -&gt;"
      ],
      "metadata": {
        "id": "uqtvJP3Dx9Gi"
      }
    },
    {
      "cell_type": "markdown",
      "source": [
        "3.\n",
        "<!doctype html>\n",
        " <html>\n",
        "   <head>\n",
        "   </head>\n",
        "   <body>\n",
        "   <h1>this is a heading</h1>\n",
        "   <p> this is a paragraph</p>\n",
        "   <p> this is a hr</p>\n",
        "   <hr/>\n",
        "   <p> this is a paragraph with <br /> line break</p>\n",
        "   </body>\n",
        "   </html>\n"
      ],
      "metadata": {
        "id": "7a7NyZgS1Paq"
      }
    },
    {
      "cell_type": "markdown",
      "source": [
        "4. Tag define structure and layout of web pages\n",
        "   paired or selfclosing tags provide instruction to browser\n",
        "   Element consist of start tag content and end tag"
      ],
      "metadata": {
        "id": "V9dhLny86uwh"
      }
    },
    {
      "cell_type": "markdown",
      "source": [
        "5. <!doctype html>declares html5document type\n",
        " ensuring proper tagclouser avoids rendering issues"
      ],
      "metadata": {
        "id": "rbpPOUeX9pYc"
      }
    }
  ]
}